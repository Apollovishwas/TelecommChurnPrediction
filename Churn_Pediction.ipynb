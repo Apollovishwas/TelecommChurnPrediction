{
  "nbformat": 4,
  "nbformat_minor": 0,
  "metadata": {
    "colab": {
      "name": "Churn Pediction.ipynb",
      "provenance": [],
      "collapsed_sections": [],
      "authorship_tag": "ABX9TyNPXO8KnZzsmz8KM4aCgRvP",
      "include_colab_link": true
    },
    "kernelspec": {
      "name": "python3",
      "display_name": "Python 3"
    }
  },
  "cells": [
    {
      "cell_type": "markdown",
      "metadata": {
        "id": "view-in-github",
        "colab_type": "text"
      },
      "source": [
        "<a href=\"https://colab.research.google.com/github/himajakinthada28/TelecommunicationChurnAnalysisPrediction/blob/master/Churn_Pediction.ipynb\" target=\"_parent\"><img src=\"https://colab.research.google.com/assets/colab-badge.svg\" alt=\"Open In Colab\"/></a>"
      ]
    },
    {
      "cell_type": "markdown",
      "metadata": {
        "id": "JNIg4EZlj1H7",
        "colab_type": "text"
      },
      "source": [
        "Analysing and predicting customer churn in telecommunications"
      ]
    },
    {
      "cell_type": "code",
      "metadata": {
        "id": "T5D8SINsITbr",
        "colab_type": "code",
        "colab": {}
      },
      "source": [
        "import pandas as pd \n",
        "import numpy as np\n",
        "import xgboost\n",
        "from sklearn import model_selection\n",
        "\n",
        "from sklearn.metrics import accuracy_score\n",
        "from sklearn.preprocessing import LabelEncoder\n",
        "# load data"
      ],
      "execution_count": null,
      "outputs": []
    },
    {
      "cell_type": "code",
      "metadata": {
        "id": "JFCsWklvC5SR",
        "colab_type": "code",
        "colab": {
          "base_uri": "https://localhost:8080/",
          "height": 309
        },
        "outputId": "fb0f995e-ec5f-4f33-9dcf-74170933ece6"
      },
      "source": [
        "data = pd.read_csv('churn_geekl.csv', header=None)\n",
        "dataset = data.values\n",
        "data.head()"
      ],
      "execution_count": null,
      "outputs": [
        {
          "output_type": "execute_result",
          "data": {
            "text/html": [
              "<div>\n",
              "<style scoped>\n",
              "    .dataframe tbody tr th:only-of-type {\n",
              "        vertical-align: middle;\n",
              "    }\n",
              "\n",
              "    .dataframe tbody tr th {\n",
              "        vertical-align: top;\n",
              "    }\n",
              "\n",
              "    .dataframe thead th {\n",
              "        text-align: right;\n",
              "    }\n",
              "</style>\n",
              "<table border=\"1\" class=\"dataframe\">\n",
              "  <thead>\n",
              "    <tr style=\"text-align: right;\">\n",
              "      <th></th>\n",
              "      <th>0</th>\n",
              "      <th>1</th>\n",
              "      <th>2</th>\n",
              "      <th>3</th>\n",
              "      <th>4</th>\n",
              "      <th>5</th>\n",
              "      <th>6</th>\n",
              "      <th>7</th>\n",
              "      <th>8</th>\n",
              "      <th>9</th>\n",
              "      <th>10</th>\n",
              "      <th>11</th>\n",
              "      <th>12</th>\n",
              "      <th>13</th>\n",
              "      <th>14</th>\n",
              "      <th>15</th>\n",
              "      <th>16</th>\n",
              "      <th>17</th>\n",
              "      <th>18</th>\n",
              "      <th>19</th>\n",
              "      <th>20</th>\n",
              "    </tr>\n",
              "  </thead>\n",
              "  <tbody>\n",
              "    <tr>\n",
              "      <th>0</th>\n",
              "      <td>State</td>\n",
              "      <td>Account Length</td>\n",
              "      <td>Area Code</td>\n",
              "      <td>Phone</td>\n",
              "      <td>Int'l Plan</td>\n",
              "      <td>VMail Plan</td>\n",
              "      <td>VMail Message</td>\n",
              "      <td>Day Mins</td>\n",
              "      <td>Day Calls</td>\n",
              "      <td>Day Charge</td>\n",
              "      <td>Eve Mins</td>\n",
              "      <td>Eve Calls</td>\n",
              "      <td>Eve Charge</td>\n",
              "      <td>Night Mins</td>\n",
              "      <td>Night Calls</td>\n",
              "      <td>Night Charge</td>\n",
              "      <td>Intl Mins</td>\n",
              "      <td>Intl Calls</td>\n",
              "      <td>Intl Charge</td>\n",
              "      <td>CustServ Calls</td>\n",
              "      <td>Churn?</td>\n",
              "    </tr>\n",
              "    <tr>\n",
              "      <th>1</th>\n",
              "      <td>KS</td>\n",
              "      <td>128</td>\n",
              "      <td>415</td>\n",
              "      <td>382-4657</td>\n",
              "      <td>no</td>\n",
              "      <td>yes</td>\n",
              "      <td>25</td>\n",
              "      <td>265.1</td>\n",
              "      <td>110</td>\n",
              "      <td>45.07</td>\n",
              "      <td>197.4</td>\n",
              "      <td>99</td>\n",
              "      <td>16.78</td>\n",
              "      <td>244.7</td>\n",
              "      <td>91</td>\n",
              "      <td>11.01</td>\n",
              "      <td>10</td>\n",
              "      <td>3</td>\n",
              "      <td>2.7</td>\n",
              "      <td>1</td>\n",
              "      <td>False.</td>\n",
              "    </tr>\n",
              "    <tr>\n",
              "      <th>2</th>\n",
              "      <td>OH</td>\n",
              "      <td>107</td>\n",
              "      <td>415</td>\n",
              "      <td>371-7191</td>\n",
              "      <td>no</td>\n",
              "      <td>yes</td>\n",
              "      <td>26</td>\n",
              "      <td>161.6</td>\n",
              "      <td>123</td>\n",
              "      <td>27.47</td>\n",
              "      <td>195.5</td>\n",
              "      <td>103</td>\n",
              "      <td>16.62</td>\n",
              "      <td>254.4</td>\n",
              "      <td>103</td>\n",
              "      <td>11.45</td>\n",
              "      <td>13.7</td>\n",
              "      <td>3</td>\n",
              "      <td>3.7</td>\n",
              "      <td>1</td>\n",
              "      <td>False.</td>\n",
              "    </tr>\n",
              "    <tr>\n",
              "      <th>3</th>\n",
              "      <td>NJ</td>\n",
              "      <td>137</td>\n",
              "      <td>415</td>\n",
              "      <td>358-1921</td>\n",
              "      <td>no</td>\n",
              "      <td>no</td>\n",
              "      <td>0</td>\n",
              "      <td>243.4</td>\n",
              "      <td>114</td>\n",
              "      <td>41.38</td>\n",
              "      <td>121.2</td>\n",
              "      <td>110</td>\n",
              "      <td>10.3</td>\n",
              "      <td>162.6</td>\n",
              "      <td>104</td>\n",
              "      <td>7.32</td>\n",
              "      <td>12.2</td>\n",
              "      <td>5</td>\n",
              "      <td>3.29</td>\n",
              "      <td>0</td>\n",
              "      <td>False.</td>\n",
              "    </tr>\n",
              "    <tr>\n",
              "      <th>4</th>\n",
              "      <td>OH</td>\n",
              "      <td>84</td>\n",
              "      <td>408</td>\n",
              "      <td>375-9999</td>\n",
              "      <td>yes</td>\n",
              "      <td>no</td>\n",
              "      <td>0</td>\n",
              "      <td>299.4</td>\n",
              "      <td>71</td>\n",
              "      <td>50.9</td>\n",
              "      <td>61.9</td>\n",
              "      <td>88</td>\n",
              "      <td>5.26</td>\n",
              "      <td>196.9</td>\n",
              "      <td>89</td>\n",
              "      <td>8.86</td>\n",
              "      <td>6.6</td>\n",
              "      <td>7</td>\n",
              "      <td>1.78</td>\n",
              "      <td>2</td>\n",
              "      <td>False.</td>\n",
              "    </tr>\n",
              "  </tbody>\n",
              "</table>\n",
              "</div>"
            ],
            "text/plain": [
              "      0               1          2   ...           18              19      20\n",
              "0  State  Account Length  Area Code  ...  Intl Charge  CustServ Calls  Churn?\n",
              "1     KS             128        415  ...          2.7               1  False.\n",
              "2     OH             107        415  ...          3.7               1  False.\n",
              "3     NJ             137        415  ...         3.29               0  False.\n",
              "4     OH              84        408  ...         1.78               2  False.\n",
              "\n",
              "[5 rows x 21 columns]"
            ]
          },
          "metadata": {
            "tags": []
          },
          "execution_count": 39
        }
      ]
    },
    {
      "cell_type": "code",
      "metadata": {
        "id": "YF2YwixFIP9E",
        "colab_type": "code",
        "colab": {}
      },
      "source": [
        "data.columns = data.iloc[0]\n",
        "data=data.drop(data.index[0])"
      ],
      "execution_count": null,
      "outputs": []
    },
    {
      "cell_type": "code",
      "metadata": {
        "id": "lREV0ks2GqaG",
        "colab_type": "code",
        "colab": {
          "base_uri": "https://localhost:8080/",
          "height": 374
        },
        "outputId": "888ae3a8-400f-4a3f-860e-112cec8a29d7"
      },
      "source": [
        "col_names=data.columns.tolist()\n",
        "col_names"
      ],
      "execution_count": null,
      "outputs": [
        {
          "output_type": "execute_result",
          "data": {
            "text/plain": [
              "['State',\n",
              " 'Account Length',\n",
              " 'Area Code',\n",
              " 'Phone',\n",
              " \"Int'l Plan\",\n",
              " 'VMail Plan',\n",
              " 'VMail Message',\n",
              " 'Day Mins',\n",
              " 'Day Calls',\n",
              " 'Day Charge',\n",
              " 'Eve Mins',\n",
              " 'Eve Calls',\n",
              " 'Eve Charge',\n",
              " 'Night Mins',\n",
              " 'Night Calls',\n",
              " 'Night Charge',\n",
              " 'Intl Mins',\n",
              " 'Intl Calls',\n",
              " 'Intl Charge',\n",
              " 'CustServ Calls',\n",
              " 'Churn?']"
            ]
          },
          "metadata": {
            "tags": []
          },
          "execution_count": 41
        }
      ]
    },
    {
      "cell_type": "code",
      "metadata": {
        "id": "JizfYpQ2IYkj",
        "colab_type": "code",
        "colab": {}
      },
      "source": [
        "data.rename(columns={ 'Account Length':'Account_Length',\n",
        "                     'Area Code':'Area_Code',\n",
        "                     \"Int'l Plan\":'Intl_Plan',\n",
        "                      'VMail Plan':'VMail_Plan',\n",
        "                       'VMail Message':'VMail_Message',\n",
        "                       'Day Mins':'Day_Mins',\n",
        "                       'Day Calls':'Day_Calls',\n",
        "                       'Day Charge':'Day_Charge',\n",
        "                       'Eve Mins':'Eve_Mins',\n",
        "                      'Eve Calls': 'Eve_Calls',\n",
        "                      'Eve Charge':'Eve_Charge',\n",
        "                      'Night Mins':'Night_Mins',\n",
        "                      'Night Calls':'Night_Calls',\n",
        "                     'Night Charge':'Night_Charge',\n",
        "                     'Intl Mins':'Intl_Mins',\n",
        "                      'Intl Calls':'Intl_Calls',\n",
        "                     'Intl Charge':'Intl_Charge',\n",
        "                     'CustServ Calls':'CustServ_Calls',\n",
        "                     'Churn?':'Churn'},inplace=True)"
      ],
      "execution_count": null,
      "outputs": []
    },
    {
      "cell_type": "markdown",
      "metadata": {
        "id": "fSePv1kuk4uU",
        "colab_type": "text"
      },
      "source": [
        "Exploratory Data Analysis"
      ]
    },
    {
      "cell_type": "code",
      "metadata": {
        "id": "yAIyQqMOL6db",
        "colab_type": "code",
        "colab": {}
      },
      "source": [
        "#find out the Categorical values and change them numerically"
      ],
      "execution_count": null,
      "outputs": []
    },
    {
      "cell_type": "code",
      "metadata": {
        "id": "M4bK-ptaNWC8",
        "colab_type": "code",
        "colab": {
          "base_uri": "https://localhost:8080/",
          "height": 221
        },
        "outputId": "5bfb1fad-b063-4eb0-93a7-6d4ee742e2e5"
      },
      "source": [
        "print('\\n', data.Intl_Plan.value_counts())\n",
        "print('\\n', data.VMail_Plan.value_counts())\n",
        "print('\\n', data.Churn.value_counts())"
      ],
      "execution_count": null,
      "outputs": [
        {
          "output_type": "stream",
          "text": [
            "\n",
            " no     3010\n",
            "yes     323\n",
            "Name: Intl_Plan, dtype: int64\n",
            "\n",
            " no     2411\n",
            "yes     922\n",
            "Name: VMail_Plan, dtype: int64\n",
            "\n",
            " False.    2850\n",
            "True.      483\n",
            "Name: Churn, dtype: int64\n"
          ],
          "name": "stdout"
        }
      ]
    },
    {
      "cell_type": "code",
      "metadata": {
        "id": "qgTV-KOLPrn4",
        "colab_type": "code",
        "colab": {
          "base_uri": "https://localhost:8080/",
          "height": 221
        },
        "outputId": "60dc9def-d208-4eb7-c569-a5a7db50ffdd"
      },
      "source": [
        "data.Intl_Plan = data.Intl_Plan.apply( lambda x: 1.0 * (x=='yes') )\n",
        "print('\\n', data.Intl_Plan.value_counts())\n",
        "\n",
        "data.VMail_Plan = data.VMail_Plan.apply( lambda x: 1.0 * (x=='yes') )\n",
        "print('\\n', data.VMail_Plan.value_counts())\n",
        "\n",
        "data.Churn = data.Churn.apply( lambda x: 1.0 * (x=='True.') )\n",
        "print('\\n', data.Churn.value_counts())"
      ],
      "execution_count": null,
      "outputs": [
        {
          "output_type": "stream",
          "text": [
            "\n",
            " 0.0    3010\n",
            "1.0     323\n",
            "Name: Intl_Plan, dtype: int64\n",
            "\n",
            " 0.0    2411\n",
            "1.0     922\n",
            "Name: VMail_Plan, dtype: int64\n",
            "\n",
            " 0.0    2850\n",
            "1.0     483\n",
            "Name: Churn, dtype: int64\n"
          ],
          "name": "stdout"
        }
      ]
    },
    {
      "cell_type": "code",
      "metadata": {
        "id": "Uiz1eFyaP-Xl",
        "colab_type": "code",
        "colab": {
          "base_uri": "https://localhost:8080/",
          "height": 297
        },
        "outputId": "2efb2f11-9fc3-4c77-8d41-9451f3a592bb"
      },
      "source": [
        "data.describe()"
      ],
      "execution_count": null,
      "outputs": [
        {
          "output_type": "execute_result",
          "data": {
            "text/html": [
              "<div>\n",
              "<style scoped>\n",
              "    .dataframe tbody tr th:only-of-type {\n",
              "        vertical-align: middle;\n",
              "    }\n",
              "\n",
              "    .dataframe tbody tr th {\n",
              "        vertical-align: top;\n",
              "    }\n",
              "\n",
              "    .dataframe thead th {\n",
              "        text-align: right;\n",
              "    }\n",
              "</style>\n",
              "<table border=\"1\" class=\"dataframe\">\n",
              "  <thead>\n",
              "    <tr style=\"text-align: right;\">\n",
              "      <th></th>\n",
              "      <th>Intl_Plan</th>\n",
              "      <th>VMail_Plan</th>\n",
              "      <th>Churn</th>\n",
              "    </tr>\n",
              "  </thead>\n",
              "  <tbody>\n",
              "    <tr>\n",
              "      <th>count</th>\n",
              "      <td>3333.000000</td>\n",
              "      <td>3333.000000</td>\n",
              "      <td>3333.000000</td>\n",
              "    </tr>\n",
              "    <tr>\n",
              "      <th>mean</th>\n",
              "      <td>0.096910</td>\n",
              "      <td>0.276628</td>\n",
              "      <td>0.144914</td>\n",
              "    </tr>\n",
              "    <tr>\n",
              "      <th>std</th>\n",
              "      <td>0.295879</td>\n",
              "      <td>0.447398</td>\n",
              "      <td>0.352067</td>\n",
              "    </tr>\n",
              "    <tr>\n",
              "      <th>min</th>\n",
              "      <td>0.000000</td>\n",
              "      <td>0.000000</td>\n",
              "      <td>0.000000</td>\n",
              "    </tr>\n",
              "    <tr>\n",
              "      <th>25%</th>\n",
              "      <td>0.000000</td>\n",
              "      <td>0.000000</td>\n",
              "      <td>0.000000</td>\n",
              "    </tr>\n",
              "    <tr>\n",
              "      <th>50%</th>\n",
              "      <td>0.000000</td>\n",
              "      <td>0.000000</td>\n",
              "      <td>0.000000</td>\n",
              "    </tr>\n",
              "    <tr>\n",
              "      <th>75%</th>\n",
              "      <td>0.000000</td>\n",
              "      <td>1.000000</td>\n",
              "      <td>0.000000</td>\n",
              "    </tr>\n",
              "    <tr>\n",
              "      <th>max</th>\n",
              "      <td>1.000000</td>\n",
              "      <td>1.000000</td>\n",
              "      <td>1.000000</td>\n",
              "    </tr>\n",
              "  </tbody>\n",
              "</table>\n",
              "</div>"
            ],
            "text/plain": [
              "0        Intl_Plan   VMail_Plan        Churn\n",
              "count  3333.000000  3333.000000  3333.000000\n",
              "mean      0.096910     0.276628     0.144914\n",
              "std       0.295879     0.447398     0.352067\n",
              "min       0.000000     0.000000     0.000000\n",
              "25%       0.000000     0.000000     0.000000\n",
              "50%       0.000000     0.000000     0.000000\n",
              "75%       0.000000     1.000000     0.000000\n",
              "max       1.000000     1.000000     1.000000"
            ]
          },
          "metadata": {
            "tags": []
          },
          "execution_count": 46
        }
      ]
    },
    {
      "cell_type": "code",
      "metadata": {
        "id": "MnVKx5LvQrOr",
        "colab_type": "code",
        "colab": {}
      },
      "source": [
        "%matplotlib inline\n",
        "import matplotlib.pyplot as plt\n",
        "\n",
        "import seaborn as sns\n",
        "sns.set()"
      ],
      "execution_count": null,
      "outputs": []
    },
    {
      "cell_type": "code",
      "metadata": {
        "id": "qmN73ZnUdQSZ",
        "colab_type": "code",
        "colab": {
          "base_uri": "https://localhost:8080/",
          "height": 381
        },
        "outputId": "c21b35bb-7441-4e94-a051-1e3d0aefd99f"
      },
      "source": [
        "# Create a new temporary dataframe to help us plot these variables.\n",
        "df1 = pd.melt(data, id_vars=['Churn'], value_vars=[\"VMail_Plan\",\"Intl_Plan\"], var_name='variable' )\n",
        "\n",
        "# Create a factorplot\n",
        "g = sns.factorplot( x=\"variable\", y=\"Churn\", hue='value', data=df1, size=4, aspect=2, kind=\"bar\", palette=\"husl\", ci=None )\n",
        "g.despine(left=True)\n",
        "g.set_ylabels(\"Churn Rate\")\n",
        "plt.show()"
      ],
      "execution_count": null,
      "outputs": [
        {
          "output_type": "stream",
          "text": [
            "/usr/local/lib/python3.6/dist-packages/seaborn/categorical.py:3666: UserWarning: The `factorplot` function has been renamed to `catplot`. The original name will be removed in a future release. Please update your code. Note that the default `kind` in `factorplot` (`'point'`) has changed `'strip'` in `catplot`.\n",
            "  warnings.warn(msg)\n",
            "/usr/local/lib/python3.6/dist-packages/seaborn/categorical.py:3672: UserWarning: The `size` parameter has been renamed to `height`; please update your code.\n",
            "  warnings.warn(msg, UserWarning)\n"
          ],
          "name": "stderr"
        },
        {
          "output_type": "display_data",
          "data": {
            "image/png": "[encoded data removed]",
            "text/plain": [
              "<Figure size 632.975x288 with 1 Axes>"
            ]
          },
          "metadata": {
            "tags": []
          }
        }
      ]
    },
    {
      "cell_type": "code",
      "metadata": {
        "id": "rQIySrIhda-w",
        "colab_type": "code",
        "colab": {
          "base_uri": "https://localhost:8080/",
          "height": 221
        },
        "outputId": "e44214cb-5be0-43cc-fd89-86bece77b641"
      },
      "source": [
        "df2 = pd.pivot_table(data, values='Churn', index=['CustServ_Calls'], aggfunc=[len,np.sum,np.mean])\n",
        "df2['ix'] = df2.index.values\n",
        "df2.columns = df2.columns.droplevel()\n",
        "print(df2)"
      ],
      "execution_count": null,
      "outputs": [
        {
          "output_type": "stream",
          "text": [
            "                   len    sum      mean ix\n",
            "CustServ_Calls                            \n",
            "0                697.0   92.0  0.131994  0\n",
            "1               1181.0  122.0  0.103302  1\n",
            "2                759.0   87.0  0.114625  2\n",
            "3                429.0   44.0  0.102564  3\n",
            "4                166.0   76.0  0.457831  4\n",
            "5                 66.0   40.0  0.606061  5\n",
            "6                 22.0   14.0  0.636364  6\n",
            "7                  9.0    5.0  0.555556  7\n",
            "8                  2.0    1.0  0.500000  8\n",
            "9                  2.0    2.0  1.000000  9\n"
          ],
          "name": "stdout"
        }
      ]
    },
    {
      "cell_type": "code",
      "metadata": {
        "id": "121USaGRpr_9",
        "colab_type": "code",
        "colab": {
          "base_uri": "https://localhost:8080/",
          "height": 285
        },
        "outputId": "26608dd4-c1a2-4ac3-b100-f70148d8fc38"
      },
      "source": [
        "sns.barplot(x=\"ix\", y=\"mean\", data=df2, palette=\"Blues_d\", saturation=.5)\n",
        "plt.show()"
      ],
      "execution_count": null,
      "outputs": [
        {
          "output_type": "display_data",
          "data": {
            "image/png": "[encoded data removed]",
            "text/plain": [
              "<Figure size 432x288 with 1 Axes>"
            ]
          },
          "metadata": {
            "tags": []
          }
        }
      ]
    },
    {
      "cell_type": "code",
      "metadata": {
        "id": "EA1rDNwpdrhH",
        "colab_type": "code",
        "colab": {
          "base_uri": "https://localhost:8080/",
          "height": 68
        },
        "outputId": "9c2d4477-1df3-43e0-b86b-58b4c0df12ee"
      },
      "source": [
        "# We don't need these columns\n",
        "to_drop = ['State', 'Area_Code', 'Phone', 'Churn']\n",
        "churn_feat_space = data.drop(to_drop, axis=1)\n",
        "# Pull out features for future use\n",
        "features = churn_feat_space.columns\n",
        "X = churn_feat_space.values.astype(np.float)\n",
        "\n",
        "churn_result = data['Churn']\n",
        "data['Churn'].value_counts()\n"
      ],
      "execution_count": null,
      "outputs": [
        {
          "output_type": "execute_result",
          "data": {
            "text/plain": [
              "0.0    2850\n",
              "1.0     483\n",
              "Name: Churn, dtype: int64"
            ]
          },
          "metadata": {
            "tags": []
          },
          "execution_count": 51
        }
      ]
    },
    {
      "cell_type": "code",
      "metadata": {
        "id": "2Ai90BZVd82L",
        "colab_type": "code",
        "colab": {
          "base_uri": "https://localhost:8080/",
          "height": 51
        },
        "outputId": "133de62d-ab62-4652-d75a-12cb7b71f3a0"
      },
      "source": [
        "y = np.where(churn_result == 1,1,0)\n",
        "\n",
        "from sklearn.preprocessing import StandardScaler\n",
        "scaler = StandardScaler()\n",
        "X = scaler.fit_transform(X)\n",
        "\n",
        "print(\"Feature space holds %d observations and %d features\" % X.shape)\n",
        "print(\"Unique target labels:\", np.unique(y))"
      ],
      "execution_count": null,
      "outputs": [
        {
          "output_type": "stream",
          "text": [
            "Feature space holds 3333 observations and 17 features\n",
            "Unique target labels: [0 1]\n"
          ],
          "name": "stdout"
        }
      ]
    },
    {
      "cell_type": "code",
      "metadata": {
        "id": "YUvLCXIBAO5B",
        "colab_type": "code",
        "colab": {}
      },
      "source": [
        "from sklearn.ensemble import RandomForestClassifier\n",
        "from sklearn.model_selection import KFold\n",
        "from sklearn.metrics import accuracy_score, recall_score, confusion_matrix"
      ],
      "execution_count": null,
      "outputs": []
    },
    {
      "cell_type": "code",
      "metadata": {
        "id": "RvOHd-e3iCID",
        "colab_type": "code",
        "colab": {}
      },
      "source": [
        "def run_cv(X, y, clf_class, **kwargs):\n",
        "    y_pred = y.copy()\n",
        "    kf = KFold(n_splits=5, shuffle=True)\n",
        "    \n",
        "    # Iterate through folds\n",
        "    for train_index, test_index in kf.split(X, y):\n",
        "        X_train, X_test = X[train_index], X[test_index]\n",
        "        y_train = y[train_index]\n",
        "        \n",
        "        # Initialize a classifier with key word arguments\n",
        "        clf = clf_class(**kwargs)\n",
        "        clf.fit(X_train,y_train)\n",
        "        y_pred[test_index] = clf.predict(X_test)\n",
        "    return y_pred,clf"
      ],
      "execution_count": null,
      "outputs": []
    },
    {
      "cell_type": "code",
      "metadata": {
        "id": "BCzWy_LSiOGb",
        "colab_type": "code",
        "colab": {}
      },
      "source": [
        "rf,RF= run_cv(X, y, RandomForestClassifier)"
      ],
      "execution_count": null,
      "outputs": []
    },
    {
      "cell_type": "code",
      "metadata": {
        "id": "vEOsEN0bi5cT",
        "colab_type": "code",
        "colab": {}
      },
      "source": [
        "def accuracy(y_true, y_pred):\n",
        "    # NumPy interprets True and False as 1. and 0.\n",
        "    return np.mean(y_true == y_pred)"
      ],
      "execution_count": null,
      "outputs": []
    },
    {
      "cell_type": "code",
      "metadata": {
        "id": "IbcBgCtdjPJ8",
        "colab_type": "code",
        "colab": {
          "base_uri": "https://localhost:8080/",
          "height": 34
        },
        "outputId": "288a59c2-402e-4a7a-f00d-ceca3732645f"
      },
      "source": [
        "print(\"Random forest: {}%\".format(100.0*accuracy(y, rf)))"
      ],
      "execution_count": null,
      "outputs": [
        {
          "output_type": "stream",
          "text": [
            "Random forest: 95.5895589558956%\n"
          ],
          "name": "stdout"
        }
      ]
    },
    {
      "cell_type": "code",
      "metadata": {
        "id": "XNGOWXurjSaO",
        "colab_type": "code",
        "colab": {
          "base_uri": "https://localhost:8080/",
          "height": 34
        },
        "outputId": "e0816269-8861-47cc-a4cb-f7cb1c4d799a"
      },
      "source": [
        "print('Recall:   {}%'.format(100.0 * recall_score(y,rf)))"
      ],
      "execution_count": null,
      "outputs": [
        {
          "output_type": "stream",
          "text": [
            "Recall:   73.91304347826086%\n"
          ],
          "name": "stdout"
        }
      ]
    },
    {
      "cell_type": "markdown",
      "metadata": {
        "id": "ip8to6WaHj4T",
        "colab_type": "text"
      },
      "source": [
        "This is already a great result. It accurately predicts 95.7% of all customers! However, most of those are not churning and are therefore less interesting. If we look at the confusion-matrix that we created of the predictions versus the actual results we can see that we only correctly pick out 365 churning customers, but fail to identify the other 118 customers who do churn as well. This is correctly represented by the recall metric, which shows us we are only 75.56% good on the customers we actually want to be most accurate on.\n",
        "\n",
        "Lets take a look and see how the model performs if we increase the number of estimators (the size) of the model."
      ]
    },
    {
      "cell_type": "code",
      "metadata": {
        "id": "tON1znsRCg41",
        "colab_type": "code",
        "colab": {
          "base_uri": "https://localhost:8080/",
          "height": 285
        },
        "outputId": "a9cf7ceb-7c78-474d-a288-f317e185d0a6"
      },
      "source": [
        "sns.heatmap(confusion_matrix(y,rf,labels=[0,1]), annot=True, fmt=\"d\", linewidths=.5)\n",
        "plt.ylabel('True label')\n",
        "plt.xlabel('Predicted label')\n",
        "pass"
      ],
      "execution_count": null,
      "outputs": [
        {
          "output_type": "display_data",
          "data": {
            "image/png": "[encoded data removed]",
            "text/plain": [
              "<Figure size 432x288 with 2 Axes>"
            ]
          },
          "metadata": {
            "tags": []
          }
        }
      ]
    },
    {
      "cell_type": "code",
      "metadata": {
        "id": "ml2u-vVNDN0D",
        "colab_type": "code",
        "colab": {
          "base_uri": "https://localhost:8080/",
          "height": 187
        },
        "outputId": "f50c0645-9b9e-4d59-ef16-612e49f96924"
      },
      "source": [
        "RF.predict_proba(X[0:10])"
      ],
      "execution_count": null,
      "outputs": [
        {
          "output_type": "execute_result",
          "data": {
            "text/plain": [
              "array([[0.97, 0.03],\n",
              "       [0.97, 0.03],\n",
              "       [0.99, 0.01],\n",
              "       [0.69, 0.31],\n",
              "       [0.97, 0.03],\n",
              "       [0.97, 0.03],\n",
              "       [0.9 , 0.1 ],\n",
              "       [0.89, 0.11],\n",
              "       [0.88, 0.12],\n",
              "       [0.88, 0.12]])"
            ]
          },
          "metadata": {
            "tags": []
          },
          "execution_count": 60
        }
      ]
    },
    {
      "cell_type": "markdown",
      "metadata": {
        "id": "raPRYRu2B1Jz",
        "colab_type": "text"
      },
      "source": [
        "We Try to implement a Xgboost and would like to give to make a comapritive analysis over the churn analysis data."
      ]
    },
    {
      "cell_type": "code",
      "metadata": {
        "id": "GXwPbk1uCDrS",
        "colab_type": "code",
        "colab": {
          "base_uri": "https://localhost:8080/",
          "height": 88
        },
        "outputId": "f39e7e8e-5a2b-4fe1-e8a4-1d9b6a6e3976"
      },
      "source": [
        "pip install xgboost"
      ],
      "execution_count": null,
      "outputs": [
        {
          "output_type": "stream",
          "text": [
            "Requirement already satisfied: xgboost in /usr/local/lib/python3.6/dist-packages (0.90)\n",
            "Requirement already satisfied: scipy in /usr/local/lib/python3.6/dist-packages (from xgboost) (1.4.1)\n",
            "Requirement already satisfied: numpy in /usr/local/lib/python3.6/dist-packages (from xgboost) (1.18.5)\n"
          ],
          "name": "stdout"
        }
      ]
    },
    {
      "cell_type": "code",
      "metadata": {
        "id": "pbFJ90F3CvJK",
        "colab_type": "code",
        "colab": {}
      },
      "source": [
        "import xgboost as xgb"
      ],
      "execution_count": null,
      "outputs": []
    },
    {
      "cell_type": "code",
      "metadata": {
        "id": "kAw3NQl0DaW5",
        "colab_type": "code",
        "colab": {
          "base_uri": "https://localhost:8080/",
          "height": 136
        },
        "outputId": "e2ab3436-c866-4037-bca2-6cf662f09a8b"
      },
      "source": [
        "xgb_model=xgb.XGBClassifier()\n",
        "xgb_model"
      ],
      "execution_count": null,
      "outputs": [
        {
          "output_type": "execute_result",
          "data": {
            "text/plain": [
              "XGBClassifier(base_score=0.5, booster='gbtree', colsample_bylevel=1,\n",
              "              colsample_bynode=1, colsample_bytree=1, gamma=0,\n",
              "              learning_rate=0.1, max_delta_step=0, max_depth=3,\n",
              "              min_child_weight=1, missing=None, n_estimators=100, n_jobs=1,\n",
              "              nthread=None, objective='binary:logistic', random_state=0,\n",
              "              reg_alpha=0, reg_lambda=1, scale_pos_weight=1, seed=None,\n",
              "              silent=None, subsample=1, verbosity=1)"
            ]
          },
          "metadata": {
            "tags": []
          },
          "execution_count": 63
        }
      ]
    },
    {
      "cell_type": "code",
      "metadata": {
        "id": "tQBdrqTGGpgi",
        "colab_type": "code",
        "colab": {}
      },
      "source": [
        "seed = 7\n",
        "test_size = 0.33\n",
        "X_train, X_test, y_train, y_test = train_test_split(X, y, test_size=test_size, random_state=seed)"
      ],
      "execution_count": null,
      "outputs": []
    },
    {
      "cell_type": "code",
      "metadata": {
        "id": "F1A35MxlF-Fi",
        "colab_type": "code",
        "colab": {
          "base_uri": "https://localhost:8080/",
          "height": 136
        },
        "outputId": "9a8f9050-947a-48a8-e280-571a3201eabf"
      },
      "source": [
        "print(xgb_model)"
      ],
      "execution_count": null,
      "outputs": [
        {
          "output_type": "stream",
          "text": [
            "XGBClassifier(base_score=0.5, booster='gbtree', colsample_bylevel=1,\n",
            "              colsample_bynode=1, colsample_bytree=1, gamma=0,\n",
            "              learning_rate=0.1, max_delta_step=0, max_depth=3,\n",
            "              min_child_weight=1, missing=None, n_estimators=100, n_jobs=1,\n",
            "              nthread=None, objective='binary:logistic', random_state=0,\n",
            "              reg_alpha=0, reg_lambda=1, scale_pos_weight=1, seed=None,\n",
            "              silent=None, subsample=1, verbosity=1)\n"
          ],
          "name": "stdout"
        }
      ]
    },
    {
      "cell_type": "code",
      "metadata": {
        "id": "3GMS4KAJHJfN",
        "colab_type": "code",
        "colab": {}
      },
      "source": [
        "from sklearn.model_selection import train_test_split"
      ],
      "execution_count": null,
      "outputs": []
    },
    {
      "cell_type": "code",
      "metadata": {
        "id": "FcRihC_ADn_f",
        "colab_type": "code",
        "colab": {}
      },
      "source": [
        "\n",
        "# split data into train and test sets\n",
        "seed = 7\n",
        "test_size = 0.33\n",
        "X_train, X_test, y_train, y_test = train_test_split(X, y, test_size=test_size, random_state=seed)"
      ],
      "execution_count": null,
      "outputs": []
    },
    {
      "cell_type": "code",
      "metadata": {
        "id": "3BdKMlvmF4-D",
        "colab_type": "code",
        "colab": {
          "base_uri": "https://localhost:8080/",
          "height": 136
        },
        "outputId": "1c514700-dedc-4e90-c7c6-a3b0645b361a"
      },
      "source": [
        "xgbmodel=xgb.XGBClassifier()\n",
        "xgbmodel"
      ],
      "execution_count": null,
      "outputs": [
        {
          "output_type": "execute_result",
          "data": {
            "text/plain": [
              "XGBClassifier(base_score=0.5, booster='gbtree', colsample_bylevel=1,\n",
              "              colsample_bynode=1, colsample_bytree=1, gamma=0,\n",
              "              learning_rate=0.1, max_delta_step=0, max_depth=3,\n",
              "              min_child_weight=1, missing=None, n_estimators=100, n_jobs=1,\n",
              "              nthread=None, objective='binary:logistic', random_state=0,\n",
              "              reg_alpha=0, reg_lambda=1, scale_pos_weight=1, seed=None,\n",
              "              silent=None, subsample=1, verbosity=1)"
            ]
          },
          "metadata": {
            "tags": []
          },
          "execution_count": 75
        }
      ]
    },
    {
      "cell_type": "code",
      "metadata": {
        "id": "u7iVmm-SHkVG",
        "colab_type": "code",
        "colab": {}
      },
      "source": [
        "xgbmodel=xgbmodel.fit(X_train,y_train)"
      ],
      "execution_count": null,
      "outputs": []
    },
    {
      "cell_type": "code",
      "metadata": {
        "id": "hqZZ12n7Hski",
        "colab_type": "code",
        "colab": {
          "base_uri": "https://localhost:8080/",
          "height": 51
        },
        "outputId": "3754d7cb-07ad-4f2c-a180-eebd5e53b365"
      },
      "source": [
        "print(\"Training set accuracy :\",xgbmodel.score(X_train,y_train)*100)\n",
        "print(\"testing set accuracy :\",xgbmodel.score(X_test,y_test)*100)"
      ],
      "execution_count": null,
      "outputs": [
        {
          "output_type": "stream",
          "text": [
            "Training set accuracy : 96.55172413793103\n",
            "testing set accuracy : 94.27272727272728\n"
          ],
          "name": "stdout"
        }
      ]
    },
    {
      "cell_type": "code",
      "metadata": {
        "id": "J_usp0JoH2E3",
        "colab_type": "code",
        "colab": {}
      },
      "source": [
        ""
      ],
      "execution_count": null,
      "outputs": []
    }
  ]
}